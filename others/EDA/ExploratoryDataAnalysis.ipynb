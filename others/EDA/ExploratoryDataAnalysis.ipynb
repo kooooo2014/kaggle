{
 "cells": [
  {
   "cell_type": "markdown",
   "metadata": {},
   "source": [
    "## EDA\n"
   ]
  },
  {
   "cell_type": "markdown",
   "metadata": {},
   "source": [
    "### Print the number of unique values for each column\n"
   ]
  },
  {
   "cell_type": "code",
   "execution_count": null,
   "metadata": {},
   "outputs": [],
   "source": [
    "for col in train.columns:\n",
    "    print(f'{col} has {train[col].nunique()} values')"
   ]
  },
  {
   "cell_type": "markdown",
   "metadata": {},
   "source": [
    "### Target distribution\n"
   ]
  },
  {
   "cell_type": "code",
   "execution_count": null,
   "metadata": {},
   "outputs": [],
   "source": [
    "# Set the figure size and create a count plot\n",
    "plt.figure(figsize=(10, 8))\n",
    "ax = sns.countplot(x='Target', data=train, palette='pastel')\n",
    "\n",
    "# Add labels to each bar in the plot\n",
    "for p in ax.patches:\n",
    "    ax.text(p.get_x() + p.get_width() / 2, p.get_height() + 3, f'{int(p.get_height())}', ha=\"center\")\n",
    "\n",
    "plt.xlabel('Target')\n",
    "plt.ylabel('Count')\n",
    "plt.title('Target Distribution')\n",
    "plt.show()"
   ]
  },
  {
   "cell_type": "markdown",
   "metadata": {},
   "source": [
    "### Feature distributions\n"
   ]
  },
  {
   "cell_type": "code",
   "execution_count": null,
   "metadata": {},
   "outputs": [],
   "source": [
    "# カテゴリーデータを数値ではなくカテゴリーと認識させるための処理\n",
    "\n",
    "# カテゴリーデータをセット\n",
    "cat_features = ['Marital status', 'Application mode', 'Course',\n",
    "                'Previous qualification', 'Nacionality', \"Mother's qualification\", \n",
    "                \"Father's qualification\", \"Mother's occupation\",\n",
    "                \"Father's occupation\"]\n",
    "# 上記のカラムはカテゴリーとtype付けする\n",
    "for feature in cat_features:\n",
    "    dtype = pd.CategoricalDtype(categories=list(set(train[feature]) | set(test[feature]) | set(original[feature])), ordered=False)\n",
    "    for df in [train, test, original]:\n",
    "        df[feature] = df[feature].astype(dtype)"
   ]
  },
  {
   "cell_type": "code",
   "execution_count": null,
   "metadata": {},
   "outputs": [],
   "source": [
    "# 全データを可視化\n",
    "# floatデータは緑ヒストグラム\n",
    "# categoryデータは黒棒グラフ\n",
    "# integerデータは青棒グラフ\n",
    "_, axs = plt.subplots(9, 4, figsize=(12, 20))\n",
    "for col, ax in zip(initial_features, axs.ravel()):\n",
    "    if train[col].dtype == float:\n",
    "        ax.hist(train[col], bins=300, density=True, color='g')\n",
    "    elif train[col].dtype == 'category':\n",
    "        vc = train[col].cat.codes.value_counts() / len(train)\n",
    "        ax.bar(vc.index, vc, color='k')\n",
    "        ax.yaxis.set_major_formatter('{x:.0%}')\n",
    "        ax.set_xticks([])\n",
    "    else: # integer\n",
    "        vc = train[col].value_counts() / len(train)\n",
    "        ax.bar(vc.index, vc, color='b')\n",
    "        ax.xaxis.set_major_locator(MaxNLocator(integer=True))\n",
    "        ax.yaxis.set_major_formatter('{x:.0%}')\n",
    "    ax.set_title(col, fontsize=10)\n",
    "plt.tight_layout()\n",
    "plt.show()"
   ]
  },
  {
   "cell_type": "markdown",
   "metadata": {},
   "source": [
    "## Feature correlations\n"
   ]
  },
  {
   "cell_type": "code",
   "execution_count": null,
   "metadata": {},
   "outputs": [],
   "source": [
    "from sklearn.preprocessing import LabelEncoder\n",
    "\n",
    "categories = ['dropout', 'enrolled', 'graduate']\n",
    "label_encoder = LabelEncoder()\n",
    "\n",
    "# Convert categorical 'Target' labels to numeric values using LabelEncoder\n",
    "train['Target'] = label_encoder.fit_transform(train['Target'])"
   ]
  },
  {
   "cell_type": "code",
   "execution_count": null,
   "metadata": {},
   "outputs": [],
   "source": [
    "corr_features = [initial_features, 'Target']\n",
    "cc = np.corrcoef(train[corr_features], rowvar=False)\n",
    "\n",
    "plt.figure(figsize=(21, 18))\n",
    "# 見やすさのために10倍している\n",
    "sns.heatmap(cc*10, center=0, cmap='coolwarm', annot=True, fmt='.0f',\n",
    "            xticklabels=corr_features, yticklabels=corr_features)\n",
    "plt.title('Correlation matrix', fontsize=40)\n",
    "plt.show()"
   ]
  }
 ],
 "metadata": {
  "language_info": {
   "name": "python"
  }
 },
 "nbformat": 4,
 "nbformat_minor": 2
}
