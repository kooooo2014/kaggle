{
 "cells": [
  {
   "cell_type": "code",
   "execution_count": null,
   "metadata": {},
   "outputs": [],
   "source": [
    "from sklearn.model_selection import KFold\n",
    "from sklearn.model_selection import train_test_split\n",
    "from sklearn.preprocessing import StandardScaler\n",
    "from sklearn.metrics import r2_score\n",
    "\n",
    "target = \"FloodProbability\"\n",
    "randomState = 41\n",
    "n_splits = 5\n",
    "\n",
    "X = train.drop(target, axis=1)\n",
    "X = cleaning(X)\n",
    "y = train[target]\n",
    "\n",
    "scaler = StandardScaler()\n",
    "scaler.fit(X)\n",
    "\n",
    "X = pd.DataFrame(scaler.transform(X), columns=X.columns)\n",
    "X_train, X_test, y_train, y_test = train_test_split(X, y, random_state=randomState)\n",
    "# kf = KFold(n_splits=n_splits, shuffle=True, random_state=randomState)"
   ]
  },
  {
   "cell_type": "code",
   "execution_count": null,
   "metadata": {},
   "outputs": [],
   "source": [
    "from lightgbm import LGBMRegressor\n",
    "\n",
    "lgbm_params = {\n",
    "        'num_leaves': 100, \n",
    "        'learning_rate': 0.015257139375608821, \n",
    "        'n_estimators': 1000, \n",
    "        'subsample_for_bin': 298999, \n",
    "        'min_child_samples': 77, \n",
    "        'reg_alpha': 2.7240879929233532e-05, \n",
    "        'reg_lambda': 9.693029775370852e-10, \n",
    "        'colsample_bytree': 0.8107657422421071, \n",
    "        'subsample': 0.8727733774586144, \n",
    "        'max_depth': 10,\n",
    "        'objective':'regression',\n",
    "        'random_state': randomState, \n",
    "        'verbose': -1,  # これを指定しないと`No further splits with positive gain, best gain: -inf`というWarningが表示される\n",
    "        'early_stopping_round': 10,  # ここでearly_stoppingを指定\n",
    "        'metric': 'rmse',\n",
    "    }\n",
    "    \n",
    "lgbm_model = LGBMRegressor(**lgbm_params)\n",
    "\n",
    "lgbm_model.fit(X_train, y_train,\n",
    "               eval_set=[(X_test, y_test)])"
   ]
  },
  {
   "cell_type": "code",
   "execution_count": null,
   "metadata": {},
   "outputs": [],
   "source": [
    "predLgbmTest = lgbm_model.predict(X_test)\n",
    "scoreLGBM = r2_score(y_test, predLgbmTest)\n",
    "print(f'r2_score: {scoreLGBM: .4f}')\n",
    "\n",
    "# predLgbm = lgbm_model.predict(testScaled)\n",
    "predLgbm = lgbm_model.predict(cleanedTest)\n",
    "print(predLgbm)"
   ]
  }
 ],
 "metadata": {
  "language_info": {
   "name": "python"
  }
 },
 "nbformat": 4,
 "nbformat_minor": 2
}
