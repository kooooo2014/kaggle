{
 "cells": [
  {
   "cell_type": "code",
   "execution_count": null,
   "metadata": {},
   "outputs": [],
   "source": [
    "from sklearn.model_selection import KFold\n",
    "from sklearn.model_selection import train_test_split\n",
    "from sklearn.preprocessing import StandardScaler\n",
    "from sklearn.metrics import r2_score\n",
    "\n",
    "target = \"FloodProbability\"\n",
    "randomState = 41\n",
    "n_splits = 5\n",
    "\n",
    "X = train.drop(target, axis=1)\n",
    "X = cleaning(X)\n",
    "y = train[target]\n",
    "\n",
    "scaler = StandardScaler()\n",
    "scaler.fit(X)\n",
    "\n",
    "X = pd.DataFrame(scaler.transform(X), columns=X.columns)\n",
    "X_train, X_test, y_train, y_test = train_test_split(X, y, random_state=randomState)\n",
    "# kf = KFold(n_splits=n_splits, shuffle=True, random_state=randomState)"
   ]
  },
  {
   "cell_type": "code",
   "execution_count": null,
   "metadata": {},
   "outputs": [],
   "source": [
    "import xgboost as xgb\n",
    "\n",
    "dtrain = xgb.DMatrix(X_train, label=y_train)\n",
    "dvalid = xgb.DMatrix(X_test, label=y_test)\n",
    "\n",
    "params = {\n",
    "        'objective': 'reg:squarederror', \n",
    "        'random_state': randomState, \n",
    "        'max_depth': 4,\n",
    "        'learning_rate': 0.04\n",
    "}\n",
    "\n",
    "watchlist = [(dtrain, 'train'), (dvalid, 'eval')]\n",
    "modelXGB = xgb.train(\n",
    "            params, \n",
    "            dtrain, \n",
    "            #学習のラウンド数\n",
    "            num_boost_round=1000,\n",
    "            early_stopping_rounds=10, \n",
    "            evals=watchlist\n",
    "        )"
   ]
  }
 ],
 "metadata": {
  "language_info": {
   "name": "python"
  }
 },
 "nbformat": 4,
 "nbformat_minor": 2
}
