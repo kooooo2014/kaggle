{
 "cells": [
  {
   "cell_type": "code",
   "execution_count": null,
   "metadata": {},
   "outputs": [],
   "source": [
    "from catboost import Pool\n",
    "from catboost import CatBoostRegressor\n",
    "\n",
    "catboost_params ={'depth': 3,                   \n",
    "                  'random_state':randomState,\n",
    "                  'task_type': 'CPU', \n",
    "                  'eval_metric': 'RMSE', \n",
    "                  'min_data_in_leaf': 4, \n",
    "                  'loss_function': 'RMSE',\n",
    "                  'grow_policy': 'Lossguide', \n",
    "                  'bootstrap_type': 'Bernoulli',\n",
    "                  'subsample': 0.83862137638162, \n",
    "                  'l2_leaf_reg': 8.365422739510098, \n",
    "                  'random_strength': 3.296124856352495, \n",
    "                  'learning_rate': 0.0983, \n",
    "}\n",
    "    \n",
    "modelCatBoost = CatBoostRegressor(**catboost_params)\n",
    "modelCatBoost.fit(\n",
    "            X_train,\n",
    "            y_train,\n",
    "            eval_set=(X_test, y_test),    # 検証用データ\n",
    "            early_stopping_rounds=10,  # 10回以上精度が改善しなければ中止\n",
    "        )"
   ]
  },
  {
   "cell_type": "code",
   "execution_count": null,
   "metadata": {},
   "outputs": [],
   "source": [
    "predCatBoostTest = modelCatBoost.predict(X_test)\n",
    "scoreCatBoost = r2_score(y_test, predCatBoostTest)\n",
    "print(f'r2_score: {scoreCatBoost: .4f}')\n",
    "\n",
    "# predCatBoost = modelCatBoost.predict(testScaled)\n",
    "predCatBoost = modelCatBoost.predict(cleanedTest)\n",
    "print(predCatBoost)"
   ]
  }
 ],
 "metadata": {
  "language_info": {
   "name": "python"
  }
 },
 "nbformat": 4,
 "nbformat_minor": 2
}
