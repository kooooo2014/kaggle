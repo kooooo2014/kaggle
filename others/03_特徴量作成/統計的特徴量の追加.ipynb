{
 "cells": [
  {
   "cell_type": "code",
   "execution_count": null,
   "metadata": {},
   "outputs": [],
   "source": [
    "def cleaning(dataset):\n",
    "    features = dataset.columns.tolist()\n",
    "\n",
    "    dataset['mean_features'] = 0.1*dataset[features].mean(axis=1)\n",
    "    dataset['std_features'] = dataset[features].std(axis=1)\n",
    "    dataset['max_features'] = dataset[features].max(axis=1)\n",
    "    dataset['min_features'] = dataset[features].min(axis=1)\n",
    "    dataset['median_features'] = 0.1*dataset[features].median(axis=1)\n",
    "    # just keep the descriptive statistics\n",
    "    dataset = dataset.drop(features, axis=1)\n",
    "\n",
    "    return dataset"
   ]
  },
  {
   "cell_type": "code",
   "execution_count": null,
   "metadata": {},
   "outputs": [],
   "source": [
    "cleanedTest = test\n",
    "cleanedTest = cleaning(cleanedTest)\n",
    "cleanedTest = pd.DataFrame(scaler.transform(cleanedTest), columns=cleanedTest.columns)\n",
    "cleanedTest"
   ]
  }
 ],
 "metadata": {
  "language_info": {
   "name": "python"
  }
 },
 "nbformat": 4,
 "nbformat_minor": 2
}
