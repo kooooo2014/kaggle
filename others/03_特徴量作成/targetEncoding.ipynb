{
 "cells": [
  {
   "cell_type": "code",
   "execution_count": null,
   "metadata": {},
   "outputs": [],
   "source": [
    "# -----------------------------------\n",
    "# target encoding - クロスバリデーションのfoldごとの場合\n",
    "# -----------------------------------\n",
    "# データの読み込み\n",
    "train_x, test_x = load_data()\n",
    "# -----------------------------------\n",
    "from sklearn.model_selection import KFold\n",
    "\n",
    "# クロスバリデーションのfoldごとにtarget encodingをやり直す\n",
    "kf = KFold(n_splits=4, shuffle=True, random_state=71)\n",
    "for i, (tr_idx, va_idx) in enumerate(kf.split(train_x)):\n",
    "\n",
    "    # 学習データからバリデーションデータを分ける\n",
    "    tr_x, va_x = train_x.iloc[tr_idx].copy(), train_x.iloc[va_idx].copy()\n",
    "    tr_y, va_y = train_y.iloc[tr_idx], train_y.iloc[va_idx]\n",
    "\n",
    "    # 変数をループしてtarget encoding\n",
    "    for c in cat_cols:\n",
    "        # 学習データ全体で各カテゴリにおけるtargetの平均を計算\n",
    "        data_tmp = pd.DataFrame({c: tr_x[c], 'target': tr_y})\n",
    "        target_mean = data_tmp.groupby(c)['target'].mean()\n",
    "        # バリデーションデータのカテゴリを置換\n",
    "        va_x.loc[:, c] = va_x[c].map(target_mean)\n",
    "\n",
    "        # 学習データの変換後の値を格納する配列を準備\n",
    "        tmp = np.repeat(np.nan, tr_x.shape[0])\n",
    "        kf_encoding = KFold(n_splits=4, shuffle=True, random_state=72)\n",
    "        for idx_1, idx_2 in kf_encoding.split(tr_x):\n",
    "            # out-of-foldで各カテゴリにおける目的変数の平均を計算\n",
    "            target_mean = data_tmp.iloc[idx_1].groupby(c)['target'].mean()\n",
    "            # 変換後の値を一時配列に格納\n",
    "            tmp[idx_2] = tr_x[c].iloc[idx_2].map(target_mean)\n",
    "\n",
    "        tr_x.loc[:, c] = tmp\n",
    "\n",
    "    # 必要に応じてencodeされた特徴量を保存し、あとで読み込めるようにしておく"
   ]
  }
 ],
 "metadata": {
  "language_info": {
   "name": "python"
  }
 },
 "nbformat": 4,
 "nbformat_minor": 2
}
