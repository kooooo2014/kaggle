{
 "cells": [
  {
   "cell_type": "code",
   "execution_count": 1,
   "id": "ed4f72e8",
   "metadata": {
    "_cell_guid": "b1076dfc-b9ad-4769-8c92-a6c4dae69d19",
    "_uuid": "8f2839f25d086af736a60e9eeb907d3b93b6e0e5",
    "execution": {
     "iopub.execute_input": "2024-06-01T05:34:14.598684Z",
     "iopub.status.busy": "2024-06-01T05:34:14.598297Z",
     "iopub.status.idle": "2024-06-01T05:34:15.513911Z",
     "shell.execute_reply": "2024-06-01T05:34:15.512507Z"
    },
    "papermill": {
     "duration": 0.922214,
     "end_time": "2024-06-01T05:34:15.516408",
     "exception": false,
     "start_time": "2024-06-01T05:34:14.594194",
     "status": "completed"
    },
    "tags": []
   },
   "outputs": [
    {
     "name": "stdout",
     "output_type": "stream",
     "text": [
      "/kaggle/input/playground-series-s4e5/sample_submission.csv\n",
      "/kaggle/input/playground-series-s4e5/train.csv\n",
      "/kaggle/input/playground-series-s4e5/test.csv\n"
     ]
    }
   ],
   "source": [
    "# This Python 3 environment comes with many helpful analytics libraries installed\n",
    "# It is defined by the kaggle/python Docker image: https://github.com/kaggle/docker-python\n",
    "# For example, here's several helpful packages to load\n",
    "\n",
    "import numpy as np # linear algebra\n",
    "import pandas as pd # data processing, CSV file I/O (e.g. pd.read_csv)\n",
    "\n",
    "# Input data files are available in the read-only \"../input/\" directory\n",
    "# For example, running this (by clicking run or pressing Shift+Enter) will list all files under the input directory\n",
    "\n",
    "import os\n",
    "for dirname, _, filenames in os.walk('/kaggle/input'):\n",
    "    for filename in filenames:\n",
    "        print(os.path.join(dirname, filename))\n",
    "\n",
    "# You can write up to 20GB to the current directory (/kaggle/working/) that gets preserved as output when you create a version using \"Save & Run All\" \n",
    "# You can also write temporary files to /kaggle/temp/, but they won't be saved outside of the current session"
   ]
  },
  {
   "cell_type": "code",
   "execution_count": 2,
   "id": "e9ac2d97",
   "metadata": {
    "execution": {
     "iopub.execute_input": "2024-06-01T05:34:15.522813Z",
     "iopub.status.busy": "2024-06-01T05:34:15.522273Z",
     "iopub.status.idle": "2024-06-01T05:34:20.658922Z",
     "shell.execute_reply": "2024-06-01T05:34:20.657393Z"
    },
    "papermill": {
     "duration": 5.143346,
     "end_time": "2024-06-01T05:34:20.662017",
     "exception": false,
     "start_time": "2024-06-01T05:34:15.518671",
     "status": "completed"
    },
    "tags": []
   },
   "outputs": [],
   "source": [
    "from sklearn.model_selection import KFold, RepeatedStratifiedKFold, train_test_split, cross_val_score\n",
    "from sklearn.preprocessing import StandardScaler\n",
    "from sklearn.metrics import r2_score\n",
    "import xgboost as xgb\n",
    "\n",
    "train = pd.read_csv('../input/playground-series-s4e5/train.csv',index_col=\"id\")\n",
    "test = pd.read_csv('../input/playground-series-s4e5/test.csv',index_col=\"id\")"
   ]
  },
  {
   "cell_type": "code",
   "execution_count": 3,
   "id": "ba204a80",
   "metadata": {
    "execution": {
     "iopub.execute_input": "2024-06-01T05:34:20.669433Z",
     "iopub.status.busy": "2024-06-01T05:34:20.669053Z",
     "iopub.status.idle": "2024-06-01T05:46:25.169372Z",
     "shell.execute_reply": "2024-06-01T05:46:25.168488Z"
    },
    "papermill": {
     "duration": 724.509091,
     "end_time": "2024-06-01T05:46:25.174199",
     "exception": false,
     "start_time": "2024-06-01T05:34:20.665108",
     "status": "completed"
    },
    "tags": []
   },
   "outputs": [
    {
     "name": "stdout",
     "output_type": "stream",
     "text": [
      "0.86908 ± 0.00056\n"
     ]
    }
   ],
   "source": [
    "target = \"FloodProbability\"\n",
    "X = train.drop(target, axis=1)\n",
    "y = train[target]\n",
    "\n",
    "randomState = 41\n",
    "nSplits = 10\n",
    "nRepeats = 10\n",
    "kfold = RepeatedStratifiedKFold(n_splits=nSplits, n_repeats=nRepeats, random_state=randomState)\n",
    "\n",
    "cv = []\n",
    "for train_index, test_index in kfold.split(X,y.astype(str)):\n",
    "    cv.append((train_index, test_index))\n",
    "\n",
    "X_new =  np.sort(X.values, axis=1)\n",
    "X_new = np.c_[X_new, X_new.sum(axis=1)]\n",
    "\n",
    "scores = cross_val_score(\n",
    "    xgb.XGBRegressor(n_jobs=4, random_state=0),\n",
    "    X_new, y, cv = cv, n_jobs=1\n",
    ")\n",
    "\n",
    "print(F'{scores.mean():.5f} ± {scores.std():.5f}')  "
   ]
  }
 ],
 "metadata": {
  "kaggle": {
   "accelerator": "none",
   "dataSources": [
    {
     "databundleVersionId": 8121328,
     "sourceId": 73278,
     "sourceType": "competition"
    }
   ],
   "dockerImageVersionId": 30698,
   "isGpuEnabled": false,
   "isInternetEnabled": false,
   "language": "python",
   "sourceType": "notebook"
  },
  "kernelspec": {
   "display_name": "Python 3",
   "language": "python",
   "name": "python3"
  },
  "language_info": {
   "codemirror_mode": {
    "name": "ipython",
    "version": 3
   },
   "file_extension": ".py",
   "mimetype": "text/x-python",
   "name": "python",
   "nbconvert_exporter": "python",
   "pygments_lexer": "ipython3",
   "version": "3.10.13"
  },
  "papermill": {
   "default_parameters": {},
   "duration": 734.168542,
   "end_time": "2024-06-01T05:46:25.800250",
   "environment_variables": {},
   "exception": null,
   "input_path": "__notebook__.ipynb",
   "output_path": "__notebook__.ipynb",
   "parameters": {},
   "start_time": "2024-06-01T05:34:11.631708",
   "version": "2.5.0"
  }
 },
 "nbformat": 4,
 "nbformat_minor": 5
}
