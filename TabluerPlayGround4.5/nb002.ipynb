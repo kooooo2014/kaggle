{
 "cells": [
  {
   "cell_type": "code",
   "execution_count": 1,
   "id": "3c29d093",
   "metadata": {
    "_cell_guid": "b1076dfc-b9ad-4769-8c92-a6c4dae69d19",
    "_uuid": "8f2839f25d086af736a60e9eeb907d3b93b6e0e5",
    "execution": {
     "iopub.execute_input": "2024-05-25T03:19:38.785533Z",
     "iopub.status.busy": "2024-05-25T03:19:38.784529Z",
     "iopub.status.idle": "2024-05-25T03:19:39.709564Z",
     "shell.execute_reply": "2024-05-25T03:19:39.708026Z"
    },
    "papermill": {
     "duration": 0.933365,
     "end_time": "2024-05-25T03:19:39.712549",
     "exception": false,
     "start_time": "2024-05-25T03:19:38.779184",
     "status": "completed"
    },
    "tags": []
   },
   "outputs": [
    {
     "name": "stdout",
     "output_type": "stream",
     "text": [
      "/kaggle/input/playground-series-s4e5/sample_submission.csv\n",
      "/kaggle/input/playground-series-s4e5/train.csv\n",
      "/kaggle/input/playground-series-s4e5/test.csv\n"
     ]
    }
   ],
   "source": [
    "# This Python 3 environment comes with many helpful analytics libraries installed\n",
    "# It is defined by the kaggle/python Docker image: https://github.com/kaggle/docker-python\n",
    "# For example, here's several helpful packages to load\n",
    "\n",
    "import numpy as np # linear algebra\n",
    "import pandas as pd # data processing, CSV file I/O (e.g. pd.read_csv)\n",
    "\n",
    "# Input data files are available in the read-only \"../input/\" directory\n",
    "# For example, running this (by clicking run or pressing Shift+Enter) will list all files under the input directory\n",
    "\n",
    "import os\n",
    "for dirname, _, filenames in os.walk('/kaggle/input'):\n",
    "    for filename in filenames:\n",
    "        print(os.path.join(dirname, filename))\n",
    "\n",
    "# You can write up to 20GB to the current directory (/kaggle/working/) that gets preserved as output when you create a version using \"Save & Run All\" \n",
    "# You can also write temporary files to /kaggle/temp/, but they won't be saved outside of the current session"
   ]
  },
  {
   "cell_type": "code",
   "execution_count": 2,
   "id": "a1bb7408",
   "metadata": {
    "execution": {
     "iopub.execute_input": "2024-05-25T03:19:39.721391Z",
     "iopub.status.busy": "2024-05-25T03:19:39.720876Z",
     "iopub.status.idle": "2024-05-25T03:19:45.137655Z",
     "shell.execute_reply": "2024-05-25T03:19:45.136500Z"
    },
    "papermill": {
     "duration": 5.424051,
     "end_time": "2024-05-25T03:19:45.140262",
     "exception": false,
     "start_time": "2024-05-25T03:19:39.716211",
     "status": "completed"
    },
    "tags": []
   },
   "outputs": [],
   "source": [
    "import pandas as pd\n",
    "import seaborn as sns\n",
    "import matplotlib.pyplot as plt\n",
    "import numpy as np\n",
    "from sklearn.model_selection import KFold\n",
    "from sklearn.model_selection import train_test_split\n",
    "from sklearn.preprocessing import StandardScaler\n",
    "\n",
    "train = pd.read_csv('../input/playground-series-s4e5/train.csv')\n",
    "test = pd.read_csv('../input/playground-series-s4e5/test.csv')\n",
    "\n",
    "trainDropped = train.drop('id', axis=1) \n",
    "testDropped = test.drop('id', axis=1) "
   ]
  },
  {
   "cell_type": "code",
   "execution_count": 3,
   "id": "9e78fd8b",
   "metadata": {
    "execution": {
     "iopub.execute_input": "2024-05-25T03:19:45.149232Z",
     "iopub.status.busy": "2024-05-25T03:19:45.148305Z",
     "iopub.status.idle": "2024-05-25T03:19:45.663108Z",
     "shell.execute_reply": "2024-05-25T03:19:45.661980Z"
    },
    "papermill": {
     "duration": 0.521926,
     "end_time": "2024-05-25T03:19:45.665635",
     "exception": false,
     "start_time": "2024-05-25T03:19:45.143709",
     "status": "completed"
    },
    "tags": []
   },
   "outputs": [],
   "source": [
    "target = \"FloodProbability\"\n",
    "randomState = 70\n",
    "n_splits = 5\n",
    "X = trainDropped.drop(target, axis=1)\n",
    "y = trainDropped[target]\n",
    "\n",
    "scaler = StandardScaler()\n",
    "scaler.fit(X)\n",
    "\n",
    "X = pd.DataFrame(scaler.transform(X), columns=X.columns)"
   ]
  },
  {
   "cell_type": "code",
   "execution_count": 4,
   "id": "c2e6891b",
   "metadata": {
    "execution": {
     "iopub.execute_input": "2024-05-25T03:19:45.675316Z",
     "iopub.status.busy": "2024-05-25T03:19:45.674271Z",
     "iopub.status.idle": "2024-05-25T03:38:32.004788Z",
     "shell.execute_reply": "2024-05-25T03:38:32.003100Z"
    },
    "papermill": {
     "duration": 1126.338125,
     "end_time": "2024-05-25T03:38:32.007499",
     "exception": false,
     "start_time": "2024-05-25T03:19:45.669374",
     "status": "completed"
    },
    "tags": []
   },
   "outputs": [
    {
     "name": "stdout",
     "output_type": "stream",
     "text": [
      "aaaaaaaaaaa\n",
      "bbbbbbbbbbb\n",
      "aaaaaaaaaaa\n",
      "bbbbbbbbbbb\n",
      "aaaaaaaaaaa\n",
      "bbbbbbbbbbb\n",
      "aaaaaaaaaaa\n",
      "bbbbbbbbbbb\n",
      "aaaaaaaaaaa\n",
      "bbbbbbbbbbb\n",
      "r2_score:  0.8329\n"
     ]
    }
   ],
   "source": [
    "from lightgbm import LGBMRegressor\n",
    "from sklearn.metrics import r2_score\n",
    "\n",
    "X_train, X_test, y_train, y_test = train_test_split(X, y, random_state=randomState)\n",
    "\n",
    "kf = KFold(n_splits=n_splits, shuffle=True, random_state=randomState)\n",
    "scores = []\n",
    "lgbm_params = {\n",
    "        'num_leaves': 100, \n",
    "        'learning_rate': 0.015257139375608821, \n",
    "        'n_estimators': 1000, \n",
    "        'subsample_for_bin': 298999, \n",
    "        'min_child_samples': 77, \n",
    "        'reg_alpha': 2.7240879929233532e-05, \n",
    "        'reg_lambda': 9.693029775370852e-10, \n",
    "        'colsample_bytree': 0.8107657422421071, \n",
    "        'subsample': 0.8727733774586144, \n",
    "        'max_depth': 10,\n",
    "        'objective':'regression',\n",
    "        'random_state': randomState, \n",
    "        'verbose': -1,  # これを指定しないと`No further splits with positive gain, best gain: -inf`というWarningが表示される\n",
    "        'early_stopping_round': 10,  # ここでearly_stoppingを指定\n",
    "        'metric': 'rmse',\n",
    "    }\n",
    "\n",
    "for tr_idx, va_idx in kf.split(X_train):\n",
    "    tr_x, va_x = X_train.iloc[tr_idx], X_train.iloc[va_idx]\n",
    "    tr_y, va_y = y_train.iloc[tr_idx], y_train.iloc[va_idx]\n",
    "    \n",
    "    lgbm_model = LGBMRegressor(**lgbm_params)\n",
    "    \n",
    "    lgbm_model.fit(tr_x, tr_y,\n",
    "                   eval_set=[(va_x, va_y)])\n",
    "    print(\"aaaaaaaaaaa\")\n",
    "    va_pred = lgbm_model.predict(va_x)\n",
    "    print(\"bbbbbbbbbbb\")\n",
    "    score = r2_score(va_y, va_pred)\n",
    "    scores.append(score)\n",
    "print(f'r2_score: {np.mean(scores): .4f}')"
   ]
  },
  {
   "cell_type": "code",
   "execution_count": 5,
   "id": "15c9b047",
   "metadata": {
    "execution": {
     "iopub.execute_input": "2024-05-25T03:38:32.017696Z",
     "iopub.status.busy": "2024-05-25T03:38:32.016977Z",
     "iopub.status.idle": "2024-05-25T03:38:32.025702Z",
     "shell.execute_reply": "2024-05-25T03:38:32.024477Z"
    },
    "papermill": {
     "duration": 0.016334,
     "end_time": "2024-05-25T03:38:32.028103",
     "exception": false,
     "start_time": "2024-05-25T03:38:32.011769",
     "status": "completed"
    },
    "tags": []
   },
   "outputs": [
    {
     "data": {
      "text/plain": [
       "[0.832692118896988,\n",
       " 0.8325372102794844,\n",
       " 0.8328158334320993,\n",
       " 0.8331178394157726,\n",
       " 0.8331653862656196]"
      ]
     },
     "execution_count": 5,
     "metadata": {},
     "output_type": "execute_result"
    }
   ],
   "source": [
    "scores"
   ]
  },
  {
   "cell_type": "code",
   "execution_count": 6,
   "id": "32bef41c",
   "metadata": {
    "execution": {
     "iopub.execute_input": "2024-05-25T03:38:32.038044Z",
     "iopub.status.busy": "2024-05-25T03:38:32.037613Z",
     "iopub.status.idle": "2024-05-25T03:39:22.550264Z",
     "shell.execute_reply": "2024-05-25T03:39:22.549029Z"
    },
    "papermill": {
     "duration": 50.52437,
     "end_time": "2024-05-25T03:39:22.556639",
     "exception": false,
     "start_time": "2024-05-25T03:38:32.032269",
     "status": "completed"
    },
    "tags": []
   },
   "outputs": [
    {
     "name": "stdout",
     "output_type": "stream",
     "text": [
      "r2_score:  0.8329\n"
     ]
    }
   ],
   "source": [
    "pred = lgbm_model.predict(X_test)\n",
    "score = r2_score(y_test, pred)\n",
    "print(f'r2_score: {score: .4f}')"
   ]
  },
  {
   "cell_type": "code",
   "execution_count": 7,
   "id": "0e269f79",
   "metadata": {
    "execution": {
     "iopub.execute_input": "2024-05-25T03:39:22.566321Z",
     "iopub.status.busy": "2024-05-25T03:39:22.565953Z",
     "iopub.status.idle": "2024-05-25T03:41:37.592297Z",
     "shell.execute_reply": "2024-05-25T03:41:37.590912Z"
    },
    "papermill": {
     "duration": 135.038996,
     "end_time": "2024-05-25T03:41:37.599638",
     "exception": false,
     "start_time": "2024-05-25T03:39:22.560642",
     "status": "completed"
    },
    "tags": []
   },
   "outputs": [
    {
     "name": "stdout",
     "output_type": "stream",
     "text": [
      "             id  FloodProbability\n",
      "0       1117957          0.572106\n",
      "1       1117958          0.455355\n",
      "2       1117959          0.460769\n",
      "3       1117960          0.461816\n",
      "4       1117961          0.459684\n",
      "...         ...               ...\n",
      "745300  1863257          0.480732\n",
      "745301  1863258          0.451351\n",
      "745302  1863259          0.613848\n",
      "745303  1863260          0.545372\n",
      "745304  1863261          0.511784\n",
      "\n",
      "[745305 rows x 2 columns]\n"
     ]
    },
    {
     "name": "stderr",
     "output_type": "stream",
     "text": [
      "/tmp/ipykernel_18/4201770460.py:3: SettingWithCopyWarning: \n",
      "A value is trying to be set on a copy of a slice from a DataFrame.\n",
      "Try using .loc[row_indexer,col_indexer] = value instead\n",
      "\n",
      "See the caveats in the documentation: https://pandas.pydata.org/pandas-docs/stable/user_guide/indexing.html#returning-a-view-versus-a-copy\n",
      "  submit['FloodProbability'] = lgbm_model.predict(testScaled)\n"
     ]
    }
   ],
   "source": [
    "submit = test[['id']]\n",
    "testScaled = pd.DataFrame(scaler.transform(testDropped), columns=testDropped.columns)\n",
    "submit['FloodProbability'] = lgbm_model.predict(testScaled)\n",
    "submit\n",
    "print(submit)"
   ]
  },
  {
   "cell_type": "code",
   "execution_count": 8,
   "id": "493673d8",
   "metadata": {
    "execution": {
     "iopub.execute_input": "2024-05-25T03:41:37.610307Z",
     "iopub.status.busy": "2024-05-25T03:41:37.609474Z",
     "iopub.status.idle": "2024-05-25T03:41:39.255072Z",
     "shell.execute_reply": "2024-05-25T03:41:39.253512Z"
    },
    "papermill": {
     "duration": 1.6538,
     "end_time": "2024-05-25T03:41:39.257737",
     "exception": false,
     "start_time": "2024-05-25T03:41:37.603937",
     "status": "completed"
    },
    "tags": []
   },
   "outputs": [
    {
     "name": "stdout",
     "output_type": "stream",
     "text": [
      "Your submission was successfully saved!\n"
     ]
    }
   ],
   "source": [
    "submit.to_csv('submission1.csv', index=False)\n",
    "print(\"Your submission was successfully saved!\")"
   ]
  },
  {
   "cell_type": "markdown",
   "id": "672a3ec3",
   "metadata": {
    "papermill": {
     "duration": 0.004124,
     "end_time": "2024-05-25T03:41:39.266812",
     "exception": false,
     "start_time": "2024-05-25T03:41:39.262688",
     "status": "completed"
    },
    "tags": []
   },
   "source": [
    "## "
   ]
  }
 ],
 "metadata": {
  "kaggle": {
   "accelerator": "none",
   "dataSources": [
    {
     "databundleVersionId": 8121328,
     "sourceId": 73278,
     "sourceType": "competition"
    }
   ],
   "dockerImageVersionId": 30698,
   "isGpuEnabled": false,
   "isInternetEnabled": false,
   "language": "python",
   "sourceType": "notebook"
  },
  "kernelspec": {
   "display_name": "Python 3",
   "language": "python",
   "name": "python3"
  },
  "language_info": {
   "codemirror_mode": {
    "name": "ipython",
    "version": 3
   },
   "file_extension": ".py",
   "mimetype": "text/x-python",
   "name": "python",
   "nbconvert_exporter": "python",
   "pygments_lexer": "ipython3",
   "version": "3.10.13"
  },
  "papermill": {
   "default_parameters": {},
   "duration": 1324.228896,
   "end_time": "2024-05-25T03:41:40.097036",
   "environment_variables": {},
   "exception": null,
   "input_path": "__notebook__.ipynb",
   "output_path": "__notebook__.ipynb",
   "parameters": {},
   "start_time": "2024-05-25T03:19:35.868140",
   "version": "2.5.0"
  }
 },
 "nbformat": 4,
 "nbformat_minor": 5
}
